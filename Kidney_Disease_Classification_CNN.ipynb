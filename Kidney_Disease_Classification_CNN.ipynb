{
 "cells": [
  {
   "cell_type": "code",
   "execution_count": 52,
   "metadata": {
    "collapsed": true,
    "ExecuteTime": {
     "end_time": "2025-05-18T13:28:32.912669Z",
     "start_time": "2025-05-18T13:28:32.909122Z"
    }
   },
   "outputs": [],
   "source": [
    "import numpy as np\n",
    "import pandas as pd\n",
    "import matplotlib.pyplot as plt\n",
    "import seaborn as sns\n",
    "import tensorflow as tf\n",
    "import cv2\n",
    "from sklearn.model_selection import train_test_split\n",
    "from tensorflow.keras.preprocessing.image import ImageDataGenerator\n",
    "from tensorflow.keras.models import Sequential\n",
    "from tensorflow.keras.preprocessing import image\n",
    "from tensorflow.keras.callbacks import EarlyStopping\n",
    "from tensorflow.keras.layers import Conv2D, MaxPooling2D, Flatten, Dense, Dropout, Input\n",
    "from sklearn.model_selection import train_test_split\n",
    "from tensorflow.keras.utils import to_categorical\n",
    "import os\n",
    "import joblib\n",
    "import streamlit\n",
    "import datetime"
   ]
  },
  {
   "cell_type": "code",
   "execution_count": 3,
   "outputs": [],
   "source": [
    "df = pd.read_csv('KidneyData.csv')"
   ],
   "metadata": {
    "collapsed": false,
    "ExecuteTime": {
     "end_time": "2025-05-18T12:34:51.696741Z",
     "start_time": "2025-05-18T12:34:51.667824Z"
    }
   }
  },
  {
   "cell_type": "code",
   "execution_count": 4,
   "outputs": [
    {
     "data": {
      "text/plain": "       Unnamed: 0       image_id  \\\n0               0  Tumor- (1044)   \n1               1    Tumor- (83)   \n2               2   Tumor- (580)   \n3               3  Tumor- (1701)   \n4               4  Tumor- (1220)   \n...           ...            ...   \n12441       12441   Cyst- (2522)   \n12442       12442   Cyst- (2627)   \n12443       12443    Cyst- (972)   \n12444       12444   Cyst- (2323)   \n12445       12445   Cyst- (2145)   \n\n                                                    path   diag  target  Class  \n0      /content/data/CT KIDNEY DATASET Normal, CYST, ...  Tumor       3  Tumor  \n1      /content/data/CT KIDNEY DATASET Normal, CYST, ...  Tumor       3  Tumor  \n2      /content/data/CT KIDNEY DATASET Normal, CYST, ...  Tumor       3  Tumor  \n3      /content/data/CT KIDNEY DATASET Normal, CYST, ...  Tumor       3  Tumor  \n4      /content/data/CT KIDNEY DATASET Normal, CYST, ...  Tumor       3  Tumor  \n...                                                  ...    ...     ...    ...  \n12441  /content/data/CT KIDNEY DATASET Normal, CYST, ...   Cyst       0   Cyst  \n12442  /content/data/CT KIDNEY DATASET Normal, CYST, ...   Cyst       0   Cyst  \n12443  /content/data/CT KIDNEY DATASET Normal, CYST, ...   Cyst       0   Cyst  \n12444  /content/data/CT KIDNEY DATASET Normal, CYST, ...   Cyst       0   Cyst  \n12445  /content/data/CT KIDNEY DATASET Normal, CYST, ...   Cyst       0   Cyst  \n\n[12446 rows x 6 columns]",
      "text/html": "<div>\n<style scoped>\n    .dataframe tbody tr th:only-of-type {\n        vertical-align: middle;\n    }\n\n    .dataframe tbody tr th {\n        vertical-align: top;\n    }\n\n    .dataframe thead th {\n        text-align: right;\n    }\n</style>\n<table border=\"1\" class=\"dataframe\">\n  <thead>\n    <tr style=\"text-align: right;\">\n      <th></th>\n      <th>Unnamed: 0</th>\n      <th>image_id</th>\n      <th>path</th>\n      <th>diag</th>\n      <th>target</th>\n      <th>Class</th>\n    </tr>\n  </thead>\n  <tbody>\n    <tr>\n      <th>0</th>\n      <td>0</td>\n      <td>Tumor- (1044)</td>\n      <td>/content/data/CT KIDNEY DATASET Normal, CYST, ...</td>\n      <td>Tumor</td>\n      <td>3</td>\n      <td>Tumor</td>\n    </tr>\n    <tr>\n      <th>1</th>\n      <td>1</td>\n      <td>Tumor- (83)</td>\n      <td>/content/data/CT KIDNEY DATASET Normal, CYST, ...</td>\n      <td>Tumor</td>\n      <td>3</td>\n      <td>Tumor</td>\n    </tr>\n    <tr>\n      <th>2</th>\n      <td>2</td>\n      <td>Tumor- (580)</td>\n      <td>/content/data/CT KIDNEY DATASET Normal, CYST, ...</td>\n      <td>Tumor</td>\n      <td>3</td>\n      <td>Tumor</td>\n    </tr>\n    <tr>\n      <th>3</th>\n      <td>3</td>\n      <td>Tumor- (1701)</td>\n      <td>/content/data/CT KIDNEY DATASET Normal, CYST, ...</td>\n      <td>Tumor</td>\n      <td>3</td>\n      <td>Tumor</td>\n    </tr>\n    <tr>\n      <th>4</th>\n      <td>4</td>\n      <td>Tumor- (1220)</td>\n      <td>/content/data/CT KIDNEY DATASET Normal, CYST, ...</td>\n      <td>Tumor</td>\n      <td>3</td>\n      <td>Tumor</td>\n    </tr>\n    <tr>\n      <th>...</th>\n      <td>...</td>\n      <td>...</td>\n      <td>...</td>\n      <td>...</td>\n      <td>...</td>\n      <td>...</td>\n    </tr>\n    <tr>\n      <th>12441</th>\n      <td>12441</td>\n      <td>Cyst- (2522)</td>\n      <td>/content/data/CT KIDNEY DATASET Normal, CYST, ...</td>\n      <td>Cyst</td>\n      <td>0</td>\n      <td>Cyst</td>\n    </tr>\n    <tr>\n      <th>12442</th>\n      <td>12442</td>\n      <td>Cyst- (2627)</td>\n      <td>/content/data/CT KIDNEY DATASET Normal, CYST, ...</td>\n      <td>Cyst</td>\n      <td>0</td>\n      <td>Cyst</td>\n    </tr>\n    <tr>\n      <th>12443</th>\n      <td>12443</td>\n      <td>Cyst- (972)</td>\n      <td>/content/data/CT KIDNEY DATASET Normal, CYST, ...</td>\n      <td>Cyst</td>\n      <td>0</td>\n      <td>Cyst</td>\n    </tr>\n    <tr>\n      <th>12444</th>\n      <td>12444</td>\n      <td>Cyst- (2323)</td>\n      <td>/content/data/CT KIDNEY DATASET Normal, CYST, ...</td>\n      <td>Cyst</td>\n      <td>0</td>\n      <td>Cyst</td>\n    </tr>\n    <tr>\n      <th>12445</th>\n      <td>12445</td>\n      <td>Cyst- (2145)</td>\n      <td>/content/data/CT KIDNEY DATASET Normal, CYST, ...</td>\n      <td>Cyst</td>\n      <td>0</td>\n      <td>Cyst</td>\n    </tr>\n  </tbody>\n</table>\n<p>12446 rows × 6 columns</p>\n</div>"
     },
     "execution_count": 4,
     "metadata": {},
     "output_type": "execute_result"
    }
   ],
   "source": [
    "df"
   ],
   "metadata": {
    "collapsed": false,
    "ExecuteTime": {
     "end_time": "2025-05-18T12:34:53.601756Z",
     "start_time": "2025-05-18T12:34:53.589786Z"
    }
   }
  },
  {
   "cell_type": "code",
   "execution_count": 5,
   "outputs": [],
   "source": [
    "df.drop('Unnamed: 0',axis=1,inplace=True)"
   ],
   "metadata": {
    "collapsed": false,
    "ExecuteTime": {
     "end_time": "2025-05-18T12:35:22.514852Z",
     "start_time": "2025-05-18T12:35:22.509528Z"
    }
   }
  },
  {
   "cell_type": "code",
   "execution_count": 6,
   "outputs": [
    {
     "data": {
      "text/plain": "            image_id                                               path  \\\n0      Tumor- (1044)  /content/data/CT KIDNEY DATASET Normal, CYST, ...   \n1        Tumor- (83)  /content/data/CT KIDNEY DATASET Normal, CYST, ...   \n2       Tumor- (580)  /content/data/CT KIDNEY DATASET Normal, CYST, ...   \n3      Tumor- (1701)  /content/data/CT KIDNEY DATASET Normal, CYST, ...   \n4      Tumor- (1220)  /content/data/CT KIDNEY DATASET Normal, CYST, ...   \n...              ...                                                ...   \n12441   Cyst- (2522)  /content/data/CT KIDNEY DATASET Normal, CYST, ...   \n12442   Cyst- (2627)  /content/data/CT KIDNEY DATASET Normal, CYST, ...   \n12443    Cyst- (972)  /content/data/CT KIDNEY DATASET Normal, CYST, ...   \n12444   Cyst- (2323)  /content/data/CT KIDNEY DATASET Normal, CYST, ...   \n12445   Cyst- (2145)  /content/data/CT KIDNEY DATASET Normal, CYST, ...   \n\n        diag  target  Class  \n0      Tumor       3  Tumor  \n1      Tumor       3  Tumor  \n2      Tumor       3  Tumor  \n3      Tumor       3  Tumor  \n4      Tumor       3  Tumor  \n...      ...     ...    ...  \n12441   Cyst       0   Cyst  \n12442   Cyst       0   Cyst  \n12443   Cyst       0   Cyst  \n12444   Cyst       0   Cyst  \n12445   Cyst       0   Cyst  \n\n[12446 rows x 5 columns]",
      "text/html": "<div>\n<style scoped>\n    .dataframe tbody tr th:only-of-type {\n        vertical-align: middle;\n    }\n\n    .dataframe tbody tr th {\n        vertical-align: top;\n    }\n\n    .dataframe thead th {\n        text-align: right;\n    }\n</style>\n<table border=\"1\" class=\"dataframe\">\n  <thead>\n    <tr style=\"text-align: right;\">\n      <th></th>\n      <th>image_id</th>\n      <th>path</th>\n      <th>diag</th>\n      <th>target</th>\n      <th>Class</th>\n    </tr>\n  </thead>\n  <tbody>\n    <tr>\n      <th>0</th>\n      <td>Tumor- (1044)</td>\n      <td>/content/data/CT KIDNEY DATASET Normal, CYST, ...</td>\n      <td>Tumor</td>\n      <td>3</td>\n      <td>Tumor</td>\n    </tr>\n    <tr>\n      <th>1</th>\n      <td>Tumor- (83)</td>\n      <td>/content/data/CT KIDNEY DATASET Normal, CYST, ...</td>\n      <td>Tumor</td>\n      <td>3</td>\n      <td>Tumor</td>\n    </tr>\n    <tr>\n      <th>2</th>\n      <td>Tumor- (580)</td>\n      <td>/content/data/CT KIDNEY DATASET Normal, CYST, ...</td>\n      <td>Tumor</td>\n      <td>3</td>\n      <td>Tumor</td>\n    </tr>\n    <tr>\n      <th>3</th>\n      <td>Tumor- (1701)</td>\n      <td>/content/data/CT KIDNEY DATASET Normal, CYST, ...</td>\n      <td>Tumor</td>\n      <td>3</td>\n      <td>Tumor</td>\n    </tr>\n    <tr>\n      <th>4</th>\n      <td>Tumor- (1220)</td>\n      <td>/content/data/CT KIDNEY DATASET Normal, CYST, ...</td>\n      <td>Tumor</td>\n      <td>3</td>\n      <td>Tumor</td>\n    </tr>\n    <tr>\n      <th>...</th>\n      <td>...</td>\n      <td>...</td>\n      <td>...</td>\n      <td>...</td>\n      <td>...</td>\n    </tr>\n    <tr>\n      <th>12441</th>\n      <td>Cyst- (2522)</td>\n      <td>/content/data/CT KIDNEY DATASET Normal, CYST, ...</td>\n      <td>Cyst</td>\n      <td>0</td>\n      <td>Cyst</td>\n    </tr>\n    <tr>\n      <th>12442</th>\n      <td>Cyst- (2627)</td>\n      <td>/content/data/CT KIDNEY DATASET Normal, CYST, ...</td>\n      <td>Cyst</td>\n      <td>0</td>\n      <td>Cyst</td>\n    </tr>\n    <tr>\n      <th>12443</th>\n      <td>Cyst- (972)</td>\n      <td>/content/data/CT KIDNEY DATASET Normal, CYST, ...</td>\n      <td>Cyst</td>\n      <td>0</td>\n      <td>Cyst</td>\n    </tr>\n    <tr>\n      <th>12444</th>\n      <td>Cyst- (2323)</td>\n      <td>/content/data/CT KIDNEY DATASET Normal, CYST, ...</td>\n      <td>Cyst</td>\n      <td>0</td>\n      <td>Cyst</td>\n    </tr>\n    <tr>\n      <th>12445</th>\n      <td>Cyst- (2145)</td>\n      <td>/content/data/CT KIDNEY DATASET Normal, CYST, ...</td>\n      <td>Cyst</td>\n      <td>0</td>\n      <td>Cyst</td>\n    </tr>\n  </tbody>\n</table>\n<p>12446 rows × 5 columns</p>\n</div>"
     },
     "execution_count": 6,
     "metadata": {},
     "output_type": "execute_result"
    }
   ],
   "source": [
    "df"
   ],
   "metadata": {
    "collapsed": false,
    "ExecuteTime": {
     "end_time": "2025-05-18T12:35:24.266707Z",
     "start_time": "2025-05-18T12:35:24.260803Z"
    }
   }
  },
  {
   "cell_type": "code",
   "execution_count": 10,
   "outputs": [
    {
     "data": {
      "text/plain": "'/content/data/CT KIDNEY DATASET Normal, CYST, TUMOR and STONE/TUMOR/Tumor- (1044).jpg'"
     },
     "execution_count": 10,
     "metadata": {},
     "output_type": "execute_result"
    }
   ],
   "source": [
    "df.path[0]"
   ],
   "metadata": {
    "collapsed": false,
    "ExecuteTime": {
     "end_time": "2025-05-18T12:37:17.617928Z",
     "start_time": "2025-05-18T12:37:17.612598Z"
    }
   }
  },
  {
   "cell_type": "code",
   "execution_count": 12,
   "outputs": [],
   "source": [
    "df['path'] = df['path'].str.strip()"
   ],
   "metadata": {
    "collapsed": false,
    "ExecuteTime": {
     "end_time": "2025-05-18T12:40:59.606081Z",
     "start_time": "2025-05-18T12:40:59.600807Z"
    }
   }
  },
  {
   "cell_type": "code",
   "execution_count": 13,
   "outputs": [
    {
     "data": {
      "text/plain": "            image_id                                               path  \\\n0      Tumor- (1044)  /content/data/CT KIDNEY DATASET Normal, CYST, ...   \n1        Tumor- (83)  /content/data/CT KIDNEY DATASET Normal, CYST, ...   \n2       Tumor- (580)  /content/data/CT KIDNEY DATASET Normal, CYST, ...   \n3      Tumor- (1701)  /content/data/CT KIDNEY DATASET Normal, CYST, ...   \n4      Tumor- (1220)  /content/data/CT KIDNEY DATASET Normal, CYST, ...   \n...              ...                                                ...   \n12441   Cyst- (2522)  /content/data/CT KIDNEY DATASET Normal, CYST, ...   \n12442   Cyst- (2627)  /content/data/CT KIDNEY DATASET Normal, CYST, ...   \n12443    Cyst- (972)  /content/data/CT KIDNEY DATASET Normal, CYST, ...   \n12444   Cyst- (2323)  /content/data/CT KIDNEY DATASET Normal, CYST, ...   \n12445   Cyst- (2145)  /content/data/CT KIDNEY DATASET Normal, CYST, ...   \n\n        diag  target  Class  \n0      Tumor       3  Tumor  \n1      Tumor       3  Tumor  \n2      Tumor       3  Tumor  \n3      Tumor       3  Tumor  \n4      Tumor       3  Tumor  \n...      ...     ...    ...  \n12441   Cyst       0   Cyst  \n12442   Cyst       0   Cyst  \n12443   Cyst       0   Cyst  \n12444   Cyst       0   Cyst  \n12445   Cyst       0   Cyst  \n\n[12446 rows x 5 columns]",
      "text/html": "<div>\n<style scoped>\n    .dataframe tbody tr th:only-of-type {\n        vertical-align: middle;\n    }\n\n    .dataframe tbody tr th {\n        vertical-align: top;\n    }\n\n    .dataframe thead th {\n        text-align: right;\n    }\n</style>\n<table border=\"1\" class=\"dataframe\">\n  <thead>\n    <tr style=\"text-align: right;\">\n      <th></th>\n      <th>image_id</th>\n      <th>path</th>\n      <th>diag</th>\n      <th>target</th>\n      <th>Class</th>\n    </tr>\n  </thead>\n  <tbody>\n    <tr>\n      <th>0</th>\n      <td>Tumor- (1044)</td>\n      <td>/content/data/CT KIDNEY DATASET Normal, CYST, ...</td>\n      <td>Tumor</td>\n      <td>3</td>\n      <td>Tumor</td>\n    </tr>\n    <tr>\n      <th>1</th>\n      <td>Tumor- (83)</td>\n      <td>/content/data/CT KIDNEY DATASET Normal, CYST, ...</td>\n      <td>Tumor</td>\n      <td>3</td>\n      <td>Tumor</td>\n    </tr>\n    <tr>\n      <th>2</th>\n      <td>Tumor- (580)</td>\n      <td>/content/data/CT KIDNEY DATASET Normal, CYST, ...</td>\n      <td>Tumor</td>\n      <td>3</td>\n      <td>Tumor</td>\n    </tr>\n    <tr>\n      <th>3</th>\n      <td>Tumor- (1701)</td>\n      <td>/content/data/CT KIDNEY DATASET Normal, CYST, ...</td>\n      <td>Tumor</td>\n      <td>3</td>\n      <td>Tumor</td>\n    </tr>\n    <tr>\n      <th>4</th>\n      <td>Tumor- (1220)</td>\n      <td>/content/data/CT KIDNEY DATASET Normal, CYST, ...</td>\n      <td>Tumor</td>\n      <td>3</td>\n      <td>Tumor</td>\n    </tr>\n    <tr>\n      <th>...</th>\n      <td>...</td>\n      <td>...</td>\n      <td>...</td>\n      <td>...</td>\n      <td>...</td>\n    </tr>\n    <tr>\n      <th>12441</th>\n      <td>Cyst- (2522)</td>\n      <td>/content/data/CT KIDNEY DATASET Normal, CYST, ...</td>\n      <td>Cyst</td>\n      <td>0</td>\n      <td>Cyst</td>\n    </tr>\n    <tr>\n      <th>12442</th>\n      <td>Cyst- (2627)</td>\n      <td>/content/data/CT KIDNEY DATASET Normal, CYST, ...</td>\n      <td>Cyst</td>\n      <td>0</td>\n      <td>Cyst</td>\n    </tr>\n    <tr>\n      <th>12443</th>\n      <td>Cyst- (972)</td>\n      <td>/content/data/CT KIDNEY DATASET Normal, CYST, ...</td>\n      <td>Cyst</td>\n      <td>0</td>\n      <td>Cyst</td>\n    </tr>\n    <tr>\n      <th>12444</th>\n      <td>Cyst- (2323)</td>\n      <td>/content/data/CT KIDNEY DATASET Normal, CYST, ...</td>\n      <td>Cyst</td>\n      <td>0</td>\n      <td>Cyst</td>\n    </tr>\n    <tr>\n      <th>12445</th>\n      <td>Cyst- (2145)</td>\n      <td>/content/data/CT KIDNEY DATASET Normal, CYST, ...</td>\n      <td>Cyst</td>\n      <td>0</td>\n      <td>Cyst</td>\n    </tr>\n  </tbody>\n</table>\n<p>12446 rows × 5 columns</p>\n</div>"
     },
     "execution_count": 13,
     "metadata": {},
     "output_type": "execute_result"
    }
   ],
   "source": [
    "df"
   ],
   "metadata": {
    "collapsed": false,
    "ExecuteTime": {
     "end_time": "2025-05-18T12:41:01.812625Z",
     "start_time": "2025-05-18T12:41:01.808599Z"
    }
   }
  },
  {
   "cell_type": "code",
   "execution_count": 14,
   "outputs": [],
   "source": [
    "train_df, val_df = train_test_split(df, test_size=0.2, stratify=df['Class'], random_state=42)"
   ],
   "metadata": {
    "collapsed": false,
    "ExecuteTime": {
     "end_time": "2025-05-18T12:42:01.208954Z",
     "start_time": "2025-05-18T12:42:01.191247Z"
    }
   }
  },
  {
   "cell_type": "code",
   "execution_count": 18,
   "outputs": [],
   "source": [
    "base_dir = '/Users/rithickchandranramesh/PyCharmProjects/kidney_disease_classification/CT-KIDNEY-DATASET-Normal-Cyst-Tumor-Stone'\n",
    "\n",
    "df['path'] = df['path'].apply(lambda x: os.path.join(base_dir, os.path.basename(x)))"
   ],
   "metadata": {
    "collapsed": false,
    "ExecuteTime": {
     "end_time": "2025-05-18T12:44:36.609669Z",
     "start_time": "2025-05-18T12:44:36.596686Z"
    }
   }
  },
  {
   "cell_type": "code",
   "execution_count": 23,
   "outputs": [
    {
     "data": {
      "text/plain": "        image_id                                               path   diag  \\\n0  Tumor- (1044)  /Users/rithickchandranramesh/PyCharmProjects/k...  Tumor   \n1    Tumor- (83)  /Users/rithickchandranramesh/PyCharmProjects/k...  Tumor   \n2   Tumor- (580)  /Users/rithickchandranramesh/PyCharmProjects/k...  Tumor   \n3  Tumor- (1701)  /Users/rithickchandranramesh/PyCharmProjects/k...  Tumor   \n4  Tumor- (1220)  /Users/rithickchandranramesh/PyCharmProjects/k...  Tumor   \n\n   target  Class  \n0       3  Tumor  \n1       3  Tumor  \n2       3  Tumor  \n3       3  Tumor  \n4       3  Tumor  ",
      "text/html": "<div>\n<style scoped>\n    .dataframe tbody tr th:only-of-type {\n        vertical-align: middle;\n    }\n\n    .dataframe tbody tr th {\n        vertical-align: top;\n    }\n\n    .dataframe thead th {\n        text-align: right;\n    }\n</style>\n<table border=\"1\" class=\"dataframe\">\n  <thead>\n    <tr style=\"text-align: right;\">\n      <th></th>\n      <th>image_id</th>\n      <th>path</th>\n      <th>diag</th>\n      <th>target</th>\n      <th>Class</th>\n    </tr>\n  </thead>\n  <tbody>\n    <tr>\n      <th>0</th>\n      <td>Tumor- (1044)</td>\n      <td>/Users/rithickchandranramesh/PyCharmProjects/k...</td>\n      <td>Tumor</td>\n      <td>3</td>\n      <td>Tumor</td>\n    </tr>\n    <tr>\n      <th>1</th>\n      <td>Tumor- (83)</td>\n      <td>/Users/rithickchandranramesh/PyCharmProjects/k...</td>\n      <td>Tumor</td>\n      <td>3</td>\n      <td>Tumor</td>\n    </tr>\n    <tr>\n      <th>2</th>\n      <td>Tumor- (580)</td>\n      <td>/Users/rithickchandranramesh/PyCharmProjects/k...</td>\n      <td>Tumor</td>\n      <td>3</td>\n      <td>Tumor</td>\n    </tr>\n    <tr>\n      <th>3</th>\n      <td>Tumor- (1701)</td>\n      <td>/Users/rithickchandranramesh/PyCharmProjects/k...</td>\n      <td>Tumor</td>\n      <td>3</td>\n      <td>Tumor</td>\n    </tr>\n    <tr>\n      <th>4</th>\n      <td>Tumor- (1220)</td>\n      <td>/Users/rithickchandranramesh/PyCharmProjects/k...</td>\n      <td>Tumor</td>\n      <td>3</td>\n      <td>Tumor</td>\n    </tr>\n  </tbody>\n</table>\n</div>"
     },
     "execution_count": 23,
     "metadata": {},
     "output_type": "execute_result"
    }
   ],
   "source": [
    "df.head()"
   ],
   "metadata": {
    "collapsed": false,
    "ExecuteTime": {
     "end_time": "2025-05-18T12:45:47.603690Z",
     "start_time": "2025-05-18T12:45:47.600573Z"
    }
   }
  },
  {
   "cell_type": "code",
   "execution_count": 24,
   "outputs": [
    {
     "data": {
      "text/plain": "image_id    0\npath        0\ndiag        0\ntarget      0\nClass       0\ndtype: int64"
     },
     "execution_count": 24,
     "metadata": {},
     "output_type": "execute_result"
    }
   ],
   "source": [
    "df.isna().sum()"
   ],
   "metadata": {
    "collapsed": false,
    "ExecuteTime": {
     "end_time": "2025-05-18T12:46:03.651512Z",
     "start_time": "2025-05-18T12:46:03.645363Z"
    }
   }
  },
  {
   "cell_type": "code",
   "execution_count": 26,
   "outputs": [
    {
     "name": "stdout",
     "output_type": "stream",
     "text": [
      "valid\n",
      "False    12446\n",
      "Name: count, dtype: int64\n",
      "0    /Users/rithickchandranramesh/PyCharmProjects/k...\n",
      "1    /Users/rithickchandranramesh/PyCharmProjects/k...\n",
      "2    /Users/rithickchandranramesh/PyCharmProjects/k...\n",
      "3    /Users/rithickchandranramesh/PyCharmProjects/k...\n",
      "4    /Users/rithickchandranramesh/PyCharmProjects/k...\n",
      "Name: path, dtype: object\n"
     ]
    }
   ],
   "source": [
    "import os\n",
    "\n",
    "# Check how many files exist\n",
    "df['valid'] = df['path'].apply(os.path.exists)\n",
    "print(df['valid'].value_counts())\n",
    "\n",
    "# Show a few invalid ones\n",
    "print(df[~df['valid']]['path'].head())"
   ],
   "metadata": {
    "collapsed": false,
    "ExecuteTime": {
     "end_time": "2025-05-18T12:47:43.861428Z",
     "start_time": "2025-05-18T12:47:43.779975Z"
    }
   }
  },
  {
   "cell_type": "code",
   "execution_count": 27,
   "outputs": [
    {
     "data": {
      "text/plain": "(12446, 6)"
     },
     "execution_count": 27,
     "metadata": {},
     "output_type": "execute_result"
    }
   ],
   "source": [
    "df.shape"
   ],
   "metadata": {
    "collapsed": false,
    "ExecuteTime": {
     "end_time": "2025-05-18T12:49:23.921644Z",
     "start_time": "2025-05-18T12:49:23.918871Z"
    }
   }
  },
  {
   "cell_type": "code",
   "execution_count": 31,
   "outputs": [],
   "source": [
    "train_df, val_df = train_test_split(df[df['valid']], test_size=0.2, stratify=df['Class'], random_state=42)"
   ],
   "metadata": {
    "collapsed": false,
    "ExecuteTime": {
     "end_time": "2025-05-18T12:52:51.957890Z",
     "start_time": "2025-05-18T12:52:51.937742Z"
    }
   }
  },
  {
   "cell_type": "code",
   "execution_count": 28,
   "outputs": [
    {
     "name": "stdout",
     "output_type": "stream",
     "text": [
      "valid\n",
      "True    12446\n",
      "Name: count, dtype: int64\n",
      "        image_id                                               path   diag  \\\n",
      "0  Tumor- (1044)  /Users/rithickchandranramesh/PyCharmProjects/k...  Tumor   \n",
      "1    Tumor- (83)  /Users/rithickchandranramesh/PyCharmProjects/k...  Tumor   \n",
      "2   Tumor- (580)  /Users/rithickchandranramesh/PyCharmProjects/k...  Tumor   \n",
      "3  Tumor- (1701)  /Users/rithickchandranramesh/PyCharmProjects/k...  Tumor   \n",
      "4  Tumor- (1220)  /Users/rithickchandranramesh/PyCharmProjects/k...  Tumor   \n",
      "\n",
      "   target  Class  valid           filename  \n",
      "0       3  Tumor   True  Tumor- (1044).jpg  \n",
      "1       3  Tumor   True    Tumor- (83).jpg  \n",
      "2       3  Tumor   True   Tumor- (580).jpg  \n",
      "3       3  Tumor   True  Tumor- (1701).jpg  \n",
      "4       3  Tumor   True  Tumor- (1220).jpg  \n"
     ]
    }
   ],
   "source": [
    "import os\n",
    "\n",
    "# Define base folder where images are stored\n",
    "base_path = \"/Users/rithickchandranramesh/PyCharmProjects/kidney_disease_classification/CT-KIDNEY-DATASET-Normal-Cyst-Tumor-Stone\"\n",
    "\n",
    "# Make sure the Class column is clean\n",
    "df['Class'] = df['Class'].str.strip()\n",
    "\n",
    "# Get just the filename (in case 'path' has full/relative junk)\n",
    "df['filename'] = df['path'].apply(lambda x: os.path.basename(x))\n",
    "\n",
    "# Now create full path: base_path/Class/filename\n",
    "df['path'] = df.apply(lambda row: os.path.join(base_path, row['Class'], row['filename']), axis=1)\n",
    "\n",
    "# Re-check validity\n",
    "df['valid'] = df['path'].apply(os.path.exists)\n",
    "print(df['valid'].value_counts())\n",
    "\n",
    "# Optional: see first few valid paths\n",
    "print(df[df['valid']].head())"
   ],
   "metadata": {
    "collapsed": false,
    "ExecuteTime": {
     "end_time": "2025-05-18T12:49:36.290863Z",
     "start_time": "2025-05-18T12:49:36.152856Z"
    }
   }
  },
  {
   "cell_type": "code",
   "execution_count": 29,
   "outputs": [
    {
     "data": {
      "text/plain": "            image_id                                               path  \\\n0      Tumor- (1044)  /Users/rithickchandranramesh/PyCharmProjects/k...   \n1        Tumor- (83)  /Users/rithickchandranramesh/PyCharmProjects/k...   \n2       Tumor- (580)  /Users/rithickchandranramesh/PyCharmProjects/k...   \n3      Tumor- (1701)  /Users/rithickchandranramesh/PyCharmProjects/k...   \n4      Tumor- (1220)  /Users/rithickchandranramesh/PyCharmProjects/k...   \n...              ...                                                ...   \n12441   Cyst- (2522)  /Users/rithickchandranramesh/PyCharmProjects/k...   \n12442   Cyst- (2627)  /Users/rithickchandranramesh/PyCharmProjects/k...   \n12443    Cyst- (972)  /Users/rithickchandranramesh/PyCharmProjects/k...   \n12444   Cyst- (2323)  /Users/rithickchandranramesh/PyCharmProjects/k...   \n12445   Cyst- (2145)  /Users/rithickchandranramesh/PyCharmProjects/k...   \n\n        diag  target  Class  valid           filename  \n0      Tumor       3  Tumor   True  Tumor- (1044).jpg  \n1      Tumor       3  Tumor   True    Tumor- (83).jpg  \n2      Tumor       3  Tumor   True   Tumor- (580).jpg  \n3      Tumor       3  Tumor   True  Tumor- (1701).jpg  \n4      Tumor       3  Tumor   True  Tumor- (1220).jpg  \n...      ...     ...    ...    ...                ...  \n12441   Cyst       0   Cyst   True   Cyst- (2522).jpg  \n12442   Cyst       0   Cyst   True   Cyst- (2627).jpg  \n12443   Cyst       0   Cyst   True    Cyst- (972).jpg  \n12444   Cyst       0   Cyst   True   Cyst- (2323).jpg  \n12445   Cyst       0   Cyst   True   Cyst- (2145).jpg  \n\n[12446 rows x 7 columns]",
      "text/html": "<div>\n<style scoped>\n    .dataframe tbody tr th:only-of-type {\n        vertical-align: middle;\n    }\n\n    .dataframe tbody tr th {\n        vertical-align: top;\n    }\n\n    .dataframe thead th {\n        text-align: right;\n    }\n</style>\n<table border=\"1\" class=\"dataframe\">\n  <thead>\n    <tr style=\"text-align: right;\">\n      <th></th>\n      <th>image_id</th>\n      <th>path</th>\n      <th>diag</th>\n      <th>target</th>\n      <th>Class</th>\n      <th>valid</th>\n      <th>filename</th>\n    </tr>\n  </thead>\n  <tbody>\n    <tr>\n      <th>0</th>\n      <td>Tumor- (1044)</td>\n      <td>/Users/rithickchandranramesh/PyCharmProjects/k...</td>\n      <td>Tumor</td>\n      <td>3</td>\n      <td>Tumor</td>\n      <td>True</td>\n      <td>Tumor- (1044).jpg</td>\n    </tr>\n    <tr>\n      <th>1</th>\n      <td>Tumor- (83)</td>\n      <td>/Users/rithickchandranramesh/PyCharmProjects/k...</td>\n      <td>Tumor</td>\n      <td>3</td>\n      <td>Tumor</td>\n      <td>True</td>\n      <td>Tumor- (83).jpg</td>\n    </tr>\n    <tr>\n      <th>2</th>\n      <td>Tumor- (580)</td>\n      <td>/Users/rithickchandranramesh/PyCharmProjects/k...</td>\n      <td>Tumor</td>\n      <td>3</td>\n      <td>Tumor</td>\n      <td>True</td>\n      <td>Tumor- (580).jpg</td>\n    </tr>\n    <tr>\n      <th>3</th>\n      <td>Tumor- (1701)</td>\n      <td>/Users/rithickchandranramesh/PyCharmProjects/k...</td>\n      <td>Tumor</td>\n      <td>3</td>\n      <td>Tumor</td>\n      <td>True</td>\n      <td>Tumor- (1701).jpg</td>\n    </tr>\n    <tr>\n      <th>4</th>\n      <td>Tumor- (1220)</td>\n      <td>/Users/rithickchandranramesh/PyCharmProjects/k...</td>\n      <td>Tumor</td>\n      <td>3</td>\n      <td>Tumor</td>\n      <td>True</td>\n      <td>Tumor- (1220).jpg</td>\n    </tr>\n    <tr>\n      <th>...</th>\n      <td>...</td>\n      <td>...</td>\n      <td>...</td>\n      <td>...</td>\n      <td>...</td>\n      <td>...</td>\n      <td>...</td>\n    </tr>\n    <tr>\n      <th>12441</th>\n      <td>Cyst- (2522)</td>\n      <td>/Users/rithickchandranramesh/PyCharmProjects/k...</td>\n      <td>Cyst</td>\n      <td>0</td>\n      <td>Cyst</td>\n      <td>True</td>\n      <td>Cyst- (2522).jpg</td>\n    </tr>\n    <tr>\n      <th>12442</th>\n      <td>Cyst- (2627)</td>\n      <td>/Users/rithickchandranramesh/PyCharmProjects/k...</td>\n      <td>Cyst</td>\n      <td>0</td>\n      <td>Cyst</td>\n      <td>True</td>\n      <td>Cyst- (2627).jpg</td>\n    </tr>\n    <tr>\n      <th>12443</th>\n      <td>Cyst- (972)</td>\n      <td>/Users/rithickchandranramesh/PyCharmProjects/k...</td>\n      <td>Cyst</td>\n      <td>0</td>\n      <td>Cyst</td>\n      <td>True</td>\n      <td>Cyst- (972).jpg</td>\n    </tr>\n    <tr>\n      <th>12444</th>\n      <td>Cyst- (2323)</td>\n      <td>/Users/rithickchandranramesh/PyCharmProjects/k...</td>\n      <td>Cyst</td>\n      <td>0</td>\n      <td>Cyst</td>\n      <td>True</td>\n      <td>Cyst- (2323).jpg</td>\n    </tr>\n    <tr>\n      <th>12445</th>\n      <td>Cyst- (2145)</td>\n      <td>/Users/rithickchandranramesh/PyCharmProjects/k...</td>\n      <td>Cyst</td>\n      <td>0</td>\n      <td>Cyst</td>\n      <td>True</td>\n      <td>Cyst- (2145).jpg</td>\n    </tr>\n  </tbody>\n</table>\n<p>12446 rows × 7 columns</p>\n</div>"
     },
     "execution_count": 29,
     "metadata": {},
     "output_type": "execute_result"
    }
   ],
   "source": [
    "df"
   ],
   "metadata": {
    "collapsed": false,
    "ExecuteTime": {
     "end_time": "2025-05-18T12:50:00.536869Z",
     "start_time": "2025-05-18T12:50:00.532289Z"
    }
   }
  },
  {
   "cell_type": "code",
   "execution_count": 32,
   "outputs": [
    {
     "name": "stdout",
     "output_type": "stream",
     "text": [
      "Found 9956 validated image filenames belonging to 4 classes.\n"
     ]
    }
   ],
   "source": [
    "img_height, img_width = 128, 128  # Standard image size\n",
    "\n",
    "train_datagen = ImageDataGenerator(rescale=1./255)\n",
    "val_datagen = ImageDataGenerator(rescale=1./255)\n",
    "\n",
    "train_gen = train_datagen.flow_from_dataframe(\n",
    "    train_df,\n",
    "    x_col='path',\n",
    "    y_col='Class',\n",
    "    target_size=(img_height, img_width),\n",
    "    class_mode='categorical',\n",
    "    batch_size=32,\n",
    "    shuffle=True\n",
    ")"
   ],
   "metadata": {
    "collapsed": false,
    "ExecuteTime": {
     "end_time": "2025-05-18T12:52:59.783694Z",
     "start_time": "2025-05-18T12:52:59.682815Z"
    }
   }
  },
  {
   "cell_type": "code",
   "execution_count": 33,
   "outputs": [
    {
     "name": "stdout",
     "output_type": "stream",
     "text": [
      "Found 2490 validated image filenames belonging to 4 classes.\n"
     ]
    }
   ],
   "source": [
    "val_gen = val_datagen.flow_from_dataframe(\n",
    "    val_df,\n",
    "    x_col='path',\n",
    "    y_col='Class',\n",
    "    target_size=(img_height, img_width),\n",
    "    class_mode='categorical',\n",
    "    batch_size=32,\n",
    "    shuffle=False\n",
    ")"
   ],
   "metadata": {
    "collapsed": false,
    "ExecuteTime": {
     "end_time": "2025-05-18T12:54:05.337480Z",
     "start_time": "2025-05-18T12:54:05.311533Z"
    }
   }
  },
  {
   "cell_type": "code",
   "execution_count": 37,
   "outputs": [],
   "source": [
    "log_dir = \"logs/fit/\" + datetime.datetime.now().strftime(\"%Y%m%d-%H%M%S\")\n",
    "tensorboard_callback = tf.keras.callbacks.TensorBoard(log_dir=log_dir, histogram_freq=1)"
   ],
   "metadata": {
    "collapsed": false,
    "ExecuteTime": {
     "end_time": "2025-05-18T12:56:29.376357Z",
     "start_time": "2025-05-18T12:56:29.372796Z"
    }
   }
  },
  {
   "cell_type": "code",
   "execution_count": 43,
   "outputs": [],
   "source": [
    "num_classes = len(train_gen.class_indices)\n",
    "\n",
    "model = Sequential([\n",
    "    Input(shape=(img_height, img_width, 3)),\n",
    "\n",
    "    Conv2D(32, (3, 3), activation='relu'),\n",
    "    MaxPooling2D(2, 2),\n",
    "\n",
    "    Conv2D(64, (3, 3), activation='relu'),\n",
    "    MaxPooling2D(2, 2),\n",
    "\n",
    "    Conv2D(128, (3, 3), activation='relu'),\n",
    "    MaxPooling2D(2, 2),\n",
    "\n",
    "    Flatten(),\n",
    "    Dense(128, activation='relu'),\n",
    "    Dropout(0.5),\n",
    "    Dense(num_classes, activation='softmax')\n",
    "])"
   ],
   "metadata": {
    "collapsed": false,
    "ExecuteTime": {
     "end_time": "2025-05-18T13:08:18.801408Z",
     "start_time": "2025-05-18T13:08:18.707533Z"
    }
   }
  },
  {
   "cell_type": "code",
   "execution_count": 44,
   "outputs": [
    {
     "data": {
      "text/plain": "\u001B[1mModel: \"sequential\"\u001B[0m\n",
      "text/html": "<pre style=\"white-space:pre;overflow-x:auto;line-height:normal;font-family:Menlo,'DejaVu Sans Mono',consolas,'Courier New',monospace\"><span style=\"font-weight: bold\">Model: \"sequential\"</span>\n</pre>\n"
     },
     "metadata": {},
     "output_type": "display_data"
    },
    {
     "data": {
      "text/plain": "┏━━━━━━━━━━━━━━━━━━━━━━━━━━━━━━━━━┳━━━━━━━━━━━━━━━━━━━━━━━━┳━━━━━━━━━━━━━━━┓\n┃\u001B[1m \u001B[0m\u001B[1mLayer (type)                   \u001B[0m\u001B[1m \u001B[0m┃\u001B[1m \u001B[0m\u001B[1mOutput Shape          \u001B[0m\u001B[1m \u001B[0m┃\u001B[1m \u001B[0m\u001B[1m      Param #\u001B[0m\u001B[1m \u001B[0m┃\n┡━━━━━━━━━━━━━━━━━━━━━━━━━━━━━━━━━╇━━━━━━━━━━━━━━━━━━━━━━━━╇━━━━━━━━━━━━━━━┩\n│ conv2d_6 (\u001B[38;5;33mConv2D\u001B[0m)               │ (\u001B[38;5;45mNone\u001B[0m, \u001B[38;5;34m126\u001B[0m, \u001B[38;5;34m126\u001B[0m, \u001B[38;5;34m32\u001B[0m)   │           \u001B[38;5;34m896\u001B[0m │\n├─────────────────────────────────┼────────────────────────┼───────────────┤\n│ max_pooling2d_6 (\u001B[38;5;33mMaxPooling2D\u001B[0m)  │ (\u001B[38;5;45mNone\u001B[0m, \u001B[38;5;34m63\u001B[0m, \u001B[38;5;34m63\u001B[0m, \u001B[38;5;34m32\u001B[0m)     │             \u001B[38;5;34m0\u001B[0m │\n├─────────────────────────────────┼────────────────────────┼───────────────┤\n│ conv2d_7 (\u001B[38;5;33mConv2D\u001B[0m)               │ (\u001B[38;5;45mNone\u001B[0m, \u001B[38;5;34m61\u001B[0m, \u001B[38;5;34m61\u001B[0m, \u001B[38;5;34m64\u001B[0m)     │        \u001B[38;5;34m18,496\u001B[0m │\n├─────────────────────────────────┼────────────────────────┼───────────────┤\n│ max_pooling2d_7 (\u001B[38;5;33mMaxPooling2D\u001B[0m)  │ (\u001B[38;5;45mNone\u001B[0m, \u001B[38;5;34m30\u001B[0m, \u001B[38;5;34m30\u001B[0m, \u001B[38;5;34m64\u001B[0m)     │             \u001B[38;5;34m0\u001B[0m │\n├─────────────────────────────────┼────────────────────────┼───────────────┤\n│ conv2d_8 (\u001B[38;5;33mConv2D\u001B[0m)               │ (\u001B[38;5;45mNone\u001B[0m, \u001B[38;5;34m28\u001B[0m, \u001B[38;5;34m28\u001B[0m, \u001B[38;5;34m128\u001B[0m)    │        \u001B[38;5;34m73,856\u001B[0m │\n├─────────────────────────────────┼────────────────────────┼───────────────┤\n│ max_pooling2d_8 (\u001B[38;5;33mMaxPooling2D\u001B[0m)  │ (\u001B[38;5;45mNone\u001B[0m, \u001B[38;5;34m14\u001B[0m, \u001B[38;5;34m14\u001B[0m, \u001B[38;5;34m128\u001B[0m)    │             \u001B[38;5;34m0\u001B[0m │\n├─────────────────────────────────┼────────────────────────┼───────────────┤\n│ flatten_2 (\u001B[38;5;33mFlatten\u001B[0m)             │ (\u001B[38;5;45mNone\u001B[0m, \u001B[38;5;34m25088\u001B[0m)          │             \u001B[38;5;34m0\u001B[0m │\n├─────────────────────────────────┼────────────────────────┼───────────────┤\n│ dense_2 (\u001B[38;5;33mDense\u001B[0m)                 │ (\u001B[38;5;45mNone\u001B[0m, \u001B[38;5;34m128\u001B[0m)            │     \u001B[38;5;34m3,211,392\u001B[0m │\n├─────────────────────────────────┼────────────────────────┼───────────────┤\n│ dropout_2 (\u001B[38;5;33mDropout\u001B[0m)             │ (\u001B[38;5;45mNone\u001B[0m, \u001B[38;5;34m128\u001B[0m)            │             \u001B[38;5;34m0\u001B[0m │\n├─────────────────────────────────┼────────────────────────┼───────────────┤\n│ dense_3 (\u001B[38;5;33mDense\u001B[0m)                 │ (\u001B[38;5;45mNone\u001B[0m, \u001B[38;5;34m4\u001B[0m)              │           \u001B[38;5;34m516\u001B[0m │\n└─────────────────────────────────┴────────────────────────┴───────────────┘\n",
      "text/html": "<pre style=\"white-space:pre;overflow-x:auto;line-height:normal;font-family:Menlo,'DejaVu Sans Mono',consolas,'Courier New',monospace\">┏━━━━━━━━━━━━━━━━━━━━━━━━━━━━━━━━━┳━━━━━━━━━━━━━━━━━━━━━━━━┳━━━━━━━━━━━━━━━┓\n┃<span style=\"font-weight: bold\"> Layer (type)                    </span>┃<span style=\"font-weight: bold\"> Output Shape           </span>┃<span style=\"font-weight: bold\">       Param # </span>┃\n┡━━━━━━━━━━━━━━━━━━━━━━━━━━━━━━━━━╇━━━━━━━━━━━━━━━━━━━━━━━━╇━━━━━━━━━━━━━━━┩\n│ conv2d_6 (<span style=\"color: #0087ff; text-decoration-color: #0087ff\">Conv2D</span>)               │ (<span style=\"color: #00d7ff; text-decoration-color: #00d7ff\">None</span>, <span style=\"color: #00af00; text-decoration-color: #00af00\">126</span>, <span style=\"color: #00af00; text-decoration-color: #00af00\">126</span>, <span style=\"color: #00af00; text-decoration-color: #00af00\">32</span>)   │           <span style=\"color: #00af00; text-decoration-color: #00af00\">896</span> │\n├─────────────────────────────────┼────────────────────────┼───────────────┤\n│ max_pooling2d_6 (<span style=\"color: #0087ff; text-decoration-color: #0087ff\">MaxPooling2D</span>)  │ (<span style=\"color: #00d7ff; text-decoration-color: #00d7ff\">None</span>, <span style=\"color: #00af00; text-decoration-color: #00af00\">63</span>, <span style=\"color: #00af00; text-decoration-color: #00af00\">63</span>, <span style=\"color: #00af00; text-decoration-color: #00af00\">32</span>)     │             <span style=\"color: #00af00; text-decoration-color: #00af00\">0</span> │\n├─────────────────────────────────┼────────────────────────┼───────────────┤\n│ conv2d_7 (<span style=\"color: #0087ff; text-decoration-color: #0087ff\">Conv2D</span>)               │ (<span style=\"color: #00d7ff; text-decoration-color: #00d7ff\">None</span>, <span style=\"color: #00af00; text-decoration-color: #00af00\">61</span>, <span style=\"color: #00af00; text-decoration-color: #00af00\">61</span>, <span style=\"color: #00af00; text-decoration-color: #00af00\">64</span>)     │        <span style=\"color: #00af00; text-decoration-color: #00af00\">18,496</span> │\n├─────────────────────────────────┼────────────────────────┼───────────────┤\n│ max_pooling2d_7 (<span style=\"color: #0087ff; text-decoration-color: #0087ff\">MaxPooling2D</span>)  │ (<span style=\"color: #00d7ff; text-decoration-color: #00d7ff\">None</span>, <span style=\"color: #00af00; text-decoration-color: #00af00\">30</span>, <span style=\"color: #00af00; text-decoration-color: #00af00\">30</span>, <span style=\"color: #00af00; text-decoration-color: #00af00\">64</span>)     │             <span style=\"color: #00af00; text-decoration-color: #00af00\">0</span> │\n├─────────────────────────────────┼────────────────────────┼───────────────┤\n│ conv2d_8 (<span style=\"color: #0087ff; text-decoration-color: #0087ff\">Conv2D</span>)               │ (<span style=\"color: #00d7ff; text-decoration-color: #00d7ff\">None</span>, <span style=\"color: #00af00; text-decoration-color: #00af00\">28</span>, <span style=\"color: #00af00; text-decoration-color: #00af00\">28</span>, <span style=\"color: #00af00; text-decoration-color: #00af00\">128</span>)    │        <span style=\"color: #00af00; text-decoration-color: #00af00\">73,856</span> │\n├─────────────────────────────────┼────────────────────────┼───────────────┤\n│ max_pooling2d_8 (<span style=\"color: #0087ff; text-decoration-color: #0087ff\">MaxPooling2D</span>)  │ (<span style=\"color: #00d7ff; text-decoration-color: #00d7ff\">None</span>, <span style=\"color: #00af00; text-decoration-color: #00af00\">14</span>, <span style=\"color: #00af00; text-decoration-color: #00af00\">14</span>, <span style=\"color: #00af00; text-decoration-color: #00af00\">128</span>)    │             <span style=\"color: #00af00; text-decoration-color: #00af00\">0</span> │\n├─────────────────────────────────┼────────────────────────┼───────────────┤\n│ flatten_2 (<span style=\"color: #0087ff; text-decoration-color: #0087ff\">Flatten</span>)             │ (<span style=\"color: #00d7ff; text-decoration-color: #00d7ff\">None</span>, <span style=\"color: #00af00; text-decoration-color: #00af00\">25088</span>)          │             <span style=\"color: #00af00; text-decoration-color: #00af00\">0</span> │\n├─────────────────────────────────┼────────────────────────┼───────────────┤\n│ dense_2 (<span style=\"color: #0087ff; text-decoration-color: #0087ff\">Dense</span>)                 │ (<span style=\"color: #00d7ff; text-decoration-color: #00d7ff\">None</span>, <span style=\"color: #00af00; text-decoration-color: #00af00\">128</span>)            │     <span style=\"color: #00af00; text-decoration-color: #00af00\">3,211,392</span> │\n├─────────────────────────────────┼────────────────────────┼───────────────┤\n│ dropout_2 (<span style=\"color: #0087ff; text-decoration-color: #0087ff\">Dropout</span>)             │ (<span style=\"color: #00d7ff; text-decoration-color: #00d7ff\">None</span>, <span style=\"color: #00af00; text-decoration-color: #00af00\">128</span>)            │             <span style=\"color: #00af00; text-decoration-color: #00af00\">0</span> │\n├─────────────────────────────────┼────────────────────────┼───────────────┤\n│ dense_3 (<span style=\"color: #0087ff; text-decoration-color: #0087ff\">Dense</span>)                 │ (<span style=\"color: #00d7ff; text-decoration-color: #00d7ff\">None</span>, <span style=\"color: #00af00; text-decoration-color: #00af00\">4</span>)              │           <span style=\"color: #00af00; text-decoration-color: #00af00\">516</span> │\n└─────────────────────────────────┴────────────────────────┴───────────────┘\n</pre>\n"
     },
     "metadata": {},
     "output_type": "display_data"
    },
    {
     "data": {
      "text/plain": "\u001B[1m Total params: \u001B[0m\u001B[38;5;34m3,305,156\u001B[0m (12.61 MB)\n",
      "text/html": "<pre style=\"white-space:pre;overflow-x:auto;line-height:normal;font-family:Menlo,'DejaVu Sans Mono',consolas,'Courier New',monospace\"><span style=\"font-weight: bold\"> Total params: </span><span style=\"color: #00af00; text-decoration-color: #00af00\">3,305,156</span> (12.61 MB)\n</pre>\n"
     },
     "metadata": {},
     "output_type": "display_data"
    },
    {
     "data": {
      "text/plain": "\u001B[1m Trainable params: \u001B[0m\u001B[38;5;34m3,305,156\u001B[0m (12.61 MB)\n",
      "text/html": "<pre style=\"white-space:pre;overflow-x:auto;line-height:normal;font-family:Menlo,'DejaVu Sans Mono',consolas,'Courier New',monospace\"><span style=\"font-weight: bold\"> Trainable params: </span><span style=\"color: #00af00; text-decoration-color: #00af00\">3,305,156</span> (12.61 MB)\n</pre>\n"
     },
     "metadata": {},
     "output_type": "display_data"
    },
    {
     "data": {
      "text/plain": "\u001B[1m Non-trainable params: \u001B[0m\u001B[38;5;34m0\u001B[0m (0.00 B)\n",
      "text/html": "<pre style=\"white-space:pre;overflow-x:auto;line-height:normal;font-family:Menlo,'DejaVu Sans Mono',consolas,'Courier New',monospace\"><span style=\"font-weight: bold\"> Non-trainable params: </span><span style=\"color: #00af00; text-decoration-color: #00af00\">0</span> (0.00 B)\n</pre>\n"
     },
     "metadata": {},
     "output_type": "display_data"
    }
   ],
   "source": [
    "model.summary()"
   ],
   "metadata": {
    "collapsed": false,
    "ExecuteTime": {
     "end_time": "2025-05-18T13:08:28.388624Z",
     "start_time": "2025-05-18T13:08:28.382554Z"
    }
   }
  },
  {
   "cell_type": "code",
   "execution_count": 46,
   "outputs": [],
   "source": [
    "model.compile(\n",
    "    optimizer='adam',\n",
    "    loss='categorical_crossentropy',\n",
    "    metrics=['accuracy']\n",
    ")"
   ],
   "metadata": {
    "collapsed": false,
    "ExecuteTime": {
     "end_time": "2025-05-18T13:10:49.030180Z",
     "start_time": "2025-05-18T13:10:49.013570Z"
    }
   }
  },
  {
   "cell_type": "code",
   "execution_count": 47,
   "outputs": [],
   "source": [
    "early_stopping = EarlyStopping(\n",
    "    monitor='val_loss',       # You can also use 'val_accuracy'\n",
    "    patience=3,               # Number of epochs with no improvement after which training will stop\n",
    "    restore_best_weights=True  # Roll back to best model weights\n",
    ")"
   ],
   "metadata": {
    "collapsed": false,
    "ExecuteTime": {
     "end_time": "2025-05-18T13:11:04.197294Z",
     "start_time": "2025-05-18T13:11:04.193024Z"
    }
   }
  },
  {
   "cell_type": "code",
   "execution_count": 48,
   "outputs": [
    {
     "name": "stderr",
     "output_type": "stream",
     "text": [
      "/Users/rithickchandranramesh/PycharmProjects/kidney_disease_classification/venv/lib/python3.11/site-packages/keras/src/trainers/data_adapters/py_dataset_adapter.py:121: UserWarning: Your `PyDataset` class should call `super().__init__(**kwargs)` in its constructor. `**kwargs` can include `workers`, `use_multiprocessing`, `max_queue_size`. Do not pass these arguments to `fit()`, as they will be ignored.\n",
      "  self._warn_if_super_not_called()\n"
     ]
    },
    {
     "name": "stdout",
     "output_type": "stream",
     "text": [
      "Epoch 1/20\n",
      "\u001B[1m312/312\u001B[0m \u001B[32m━━━━━━━━━━━━━━━━━━━━\u001B[0m\u001B[37m\u001B[0m \u001B[1m52s\u001B[0m 165ms/step - accuracy: 0.7471 - loss: 0.6519 - val_accuracy: 0.9976 - val_loss: 0.0140\n",
      "Epoch 2/20\n",
      "\u001B[1m312/312\u001B[0m \u001B[32m━━━━━━━━━━━━━━━━━━━━\u001B[0m\u001B[37m\u001B[0m \u001B[1m51s\u001B[0m 165ms/step - accuracy: 0.9856 - loss: 0.0423 - val_accuracy: 0.9996 - val_loss: 0.0022\n",
      "Epoch 3/20\n",
      "\u001B[1m312/312\u001B[0m \u001B[32m━━━━━━━━━━━━━━━━━━━━\u001B[0m\u001B[37m\u001B[0m \u001B[1m51s\u001B[0m 163ms/step - accuracy: 0.9923 - loss: 0.0232 - val_accuracy: 0.9992 - val_loss: 0.0025\n",
      "Epoch 4/20\n",
      "\u001B[1m312/312\u001B[0m \u001B[32m━━━━━━━━━━━━━━━━━━━━\u001B[0m\u001B[37m\u001B[0m \u001B[1m51s\u001B[0m 165ms/step - accuracy: 0.9956 - loss: 0.0143 - val_accuracy: 0.9992 - val_loss: 0.0022\n",
      "Epoch 5/20\n",
      "\u001B[1m312/312\u001B[0m \u001B[32m━━━━━━━━━━━━━━━━━━━━\u001B[0m\u001B[37m\u001B[0m \u001B[1m51s\u001B[0m 162ms/step - accuracy: 0.9976 - loss: 0.0077 - val_accuracy: 0.9992 - val_loss: 0.0023\n"
     ]
    }
   ],
   "source": [
    "history = model.fit(\n",
    "    train_gen,\n",
    "    validation_data=val_gen,\n",
    "    epochs=20,\n",
    "    callbacks=[tensorboard_callback, early_stopping]\n",
    ")"
   ],
   "metadata": {
    "collapsed": false,
    "ExecuteTime": {
     "end_time": "2025-05-18T13:15:37.049260Z",
     "start_time": "2025-05-18T13:11:19.870502Z"
    }
   }
  },
  {
   "cell_type": "code",
   "execution_count": 49,
   "outputs": [
    {
     "data": {
      "text/plain": "<Figure size 640x480 with 1 Axes>",
      "image/png": "[encoded data removed]"
     },
     "metadata": {},
     "output_type": "display_data"
    }
   ],
   "source": [
    "plt.plot(history.history['accuracy'], label='Train Accuracy')\n",
    "plt.plot(history.history['val_accuracy'], label='Val Accuracy')\n",
    "plt.title('Model Accuracy')\n",
    "plt.xlabel('Epoch')\n",
    "plt.ylabel('Accuracy')\n",
    "plt.legend()\n",
    "plt.show()"
   ],
   "metadata": {
    "collapsed": false,
    "ExecuteTime": {
     "end_time": "2025-05-18T13:17:25.223254Z",
     "start_time": "2025-05-18T13:17:24.793507Z"
    }
   }
  },
  {
   "cell_type": "code",
   "execution_count": 50,
   "outputs": [
    {
     "data": {
      "text/plain": "<Figure size 640x480 with 1 Axes>",
      "image/png": "[encoded data removed]"
     },
     "metadata": {},
     "output_type": "display_data"
    }
   ],
   "source": [
    "plt.plot(history.history['loss'], label='Train Loss')\n",
    "plt.plot(history.history['val_loss'], label='Val Loss')\n",
    "plt.title('Model Loss')\n",
    "plt.xlabel('Epoch')\n",
    "plt.ylabel('Loss')\n",
    "plt.legend()\n",
    "plt.show()"
   ],
   "metadata": {
    "collapsed": false,
    "ExecuteTime": {
     "end_time": "2025-05-18T13:17:49.032758Z",
     "start_time": "2025-05-18T13:17:48.950962Z"
    }
   }
  },
  {
   "cell_type": "code",
   "execution_count": 51,
   "outputs": [
    {
     "name": "stderr",
     "output_type": "stream",
     "text": [
      "WARNING:absl:You are saving your model as an HDF5 file via `model.save()` or `keras.saving.save_model(model)`. This file format is considered legacy. We recommend using instead the native Keras format, e.g. `model.save('my_model.keras')` or `keras.saving.save_model(model, 'my_model.keras')`. \n"
     ]
    }
   ],
   "source": [
    "model.save('kidney_disease_classification_model.h5')"
   ],
   "metadata": {
    "collapsed": false,
    "ExecuteTime": {
     "end_time": "2025-05-18T13:22:21.585922Z",
     "start_time": "2025-05-18T13:22:21.529935Z"
    }
   }
  },
  {
   "cell_type": "code",
   "execution_count": 58,
   "outputs": [
    {
     "name": "stdout",
     "output_type": "stream",
     "text": [
      "\u001B[1m1/1\u001B[0m \u001B[32m━━━━━━━━━━━━━━━━━━━━\u001B[0m\u001B[37m\u001B[0m \u001B[1m0s\u001B[0m 19ms/step\n",
      "t2.jpg ➜ Predicted: Tumor (Label Index: 3, Confidence: 1.00)\n",
      "\u001B[1m1/1\u001B[0m \u001B[32m━━━━━━━━━━━━━━━━━━━━\u001B[0m\u001B[37m\u001B[0m \u001B[1m0s\u001B[0m 13ms/step\n",
      "n.jpg ➜ Predicted: Normal (Label Index: 1, Confidence: 1.00)\n",
      "\u001B[1m1/1\u001B[0m \u001B[32m━━━━━━━━━━━━━━━━━━━━\u001B[0m\u001B[37m\u001B[0m \u001B[1m0s\u001B[0m 15ms/step\n",
      "s2.jpg ➜ Predicted: Stone (Label Index: 2, Confidence: 1.00)\n",
      "\u001B[1m1/1\u001B[0m \u001B[32m━━━━━━━━━━━━━━━━━━━━\u001B[0m\u001B[37m\u001B[0m \u001B[1m0s\u001B[0m 14ms/step\n",
      "c.jpg ➜ Predicted: Cyst (Label Index: 0, Confidence: 1.00)\n",
      "\u001B[1m1/1\u001B[0m \u001B[32m━━━━━━━━━━━━━━━━━━━━\u001B[0m\u001B[37m\u001B[0m \u001B[1m0s\u001B[0m 14ms/step\n",
      "t.jpg ➜ Predicted: Tumor (Label Index: 3, Confidence: 1.00)\n",
      "\u001B[1m1/1\u001B[0m \u001B[32m━━━━━━━━━━━━━━━━━━━━\u001B[0m\u001B[37m\u001B[0m \u001B[1m0s\u001B[0m 14ms/step\n",
      "c2.jpg ➜ Predicted: Cyst (Label Index: 0, Confidence: 1.00)\n",
      "\u001B[1m1/1\u001B[0m \u001B[32m━━━━━━━━━━━━━━━━━━━━\u001B[0m\u001B[37m\u001B[0m \u001B[1m0s\u001B[0m 13ms/step\n",
      "s.jpg ➜ Predicted: Stone (Label Index: 2, Confidence: 1.00)\n",
      "\u001B[1m1/1\u001B[0m \u001B[32m━━━━━━━━━━━━━━━━━━━━\u001B[0m\u001B[37m\u001B[0m \u001B[1m0s\u001B[0m 15ms/step\n",
      "n2.jpg ➜ Predicted: Normal (Label Index: 1, Confidence: 1.00)\n"
     ]
    }
   ],
   "source": [
    "import os\n",
    "from tensorflow.keras.preprocessing import image\n",
    "import numpy as np\n",
    "\n",
    "# Constants\n",
    "IMG_HEIGHT = 128\n",
    "IMG_WIDTH = 128\n",
    "TEST_FOLDER = '/Users/rithickchandranramesh/PycharmProjects/kidney_disease_classification/test'  # <-- Update this\n",
    "CLASS_NAMES = ['Cyst', 'Normal', 'Stone', 'Tumor']  # Matches label indices: 0,1,2,3\n",
    "\n",
    "# Loop through images in the test folder\n",
    "for filename in os.listdir(TEST_FOLDER):\n",
    "    if filename.lower().endswith(('.jpg', '.jpeg', '.png')):\n",
    "        img_path = os.path.join(TEST_FOLDER, filename)\n",
    "\n",
    "        # Load and preprocess image\n",
    "        img = image.load_img(img_path, target_size=(IMG_HEIGHT, IMG_WIDTH))\n",
    "        img_array = image.img_to_array(img)\n",
    "        img_array = np.expand_dims(img_array, axis=0)\n",
    "        img_array = img_array / 255.0\n",
    "\n",
    "        # Predict\n",
    "        predictions = model.predict(img_array)\n",
    "        predicted_index = np.argmax(predictions)\n",
    "        predicted_class = CLASS_NAMES[predicted_index]\n",
    "        confidence = np.max(predictions)\n",
    "\n",
    "        print(f\"{filename} ➜ Predicted: {predicted_class} (Label Index: {predicted_index}, Confidence: {confidence:.2f})\")\n"
   ],
   "metadata": {
    "collapsed": false,
    "ExecuteTime": {
     "end_time": "2025-05-18T13:35:33.128801Z",
     "start_time": "2025-05-18T13:35:32.866564Z"
    }
   }
  },
  {
   "cell_type": "code",
   "execution_count": 59,
   "outputs": [],
   "source": [
    "%load_ext tensorboard"
   ],
   "metadata": {
    "collapsed": false,
    "ExecuteTime": {
     "end_time": "2025-05-18T13:59:29.354503Z",
     "start_time": "2025-05-18T13:59:29.316858Z"
    }
   }
  },
  {
   "cell_type": "code",
   "execution_count": 61,
   "outputs": [
    {
     "data": {
      "text/plain": "Launching TensorBoard..."
     },
     "metadata": {},
     "output_type": "display_data"
    },
    {
     "data": {
      "text/plain": "<IPython.core.display.HTML object>",
      "text/html": "\n      <iframe id=\"tensorboard-frame-693b5ca7e55f5cf8\" width=\"100%\" height=\"800\" frameborder=\"0\">\n      </iframe>\n      <script>\n        (function() {\n          const frame = document.getElementById(\"tensorboard-frame-693b5ca7e55f5cf8\");\n          const url = new URL(\"/\", window.location);\n          const port = 6006;\n          if (port) {\n            url.port = port;\n          }\n          frame.src = url;\n        })();\n      </script>\n    "
     },
     "metadata": {},
     "output_type": "display_data"
    }
   ],
   "source": [
    "\n",
    "%tensorboard --logdir logs/fit"
   ],
   "metadata": {
    "collapsed": false,
    "ExecuteTime": {
     "end_time": "2025-05-18T14:00:26.843794Z",
     "start_time": "2025-05-18T14:00:26.837169Z"
    }
   }
  },
  {
   "cell_type": "code",
   "execution_count": null,
   "outputs": [],
   "source": [],
   "metadata": {
    "collapsed": false
   }
  }
 ],
 "metadata": {
  "kernelspec": {
   "display_name": "Python 3",
   "language": "python",
   "name": "python3"
  },
  "language_info": {
   "codemirror_mode": {
    "name": "ipython",
    "version": 2
   },
   "file_extension": ".py",
   "mimetype": "text/x-python",
   "name": "python",
   "nbconvert_exporter": "python",
   "pygments_lexer": "ipython2",
   "version": "2.7.6"
  }
 },
 "nbformat": 4,
 "nbformat_minor": 0
}
